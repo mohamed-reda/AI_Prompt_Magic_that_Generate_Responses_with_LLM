{
 "cells": [
  {
   "cell_type": "code",
   "execution_count": 1,
   "id": "ed3f07a4",
   "metadata": {},
   "outputs": [],
   "source": [
    "import os\n",
    "# os.environ[\"OPENAI_API_KEY\"] = \"OPENAI_API_KEY\""
   ]
  },
  {
   "cell_type": "code",
   "execution_count": 2,
   "id": "a7dc8c79",
   "metadata": {},
   "outputs": [],
   "source": [
    "from langchain.prompts import PromptTemplate\n",
    "from langchain.llms import OpenAI\n",
    "\n",
    "from langchain.output_parsers import CommaSeparatedListOutputParser, StructuredOutputParser, ResponseSchema\n"
   ]
  },
  {
   "cell_type": "markdown",
   "id": "044b2167",
   "metadata": {},
   "source": [
    "<font color=\"green\">\n",
    "Creating an object of CommaSeparatedListOutputParser<font>"
   ]
  },
  {
   "cell_type": "code",
   "execution_count": 4,
   "id": "ffbb2578",
   "metadata": {},
   "outputs": [
    {
     "data": {
      "text/plain": [
       "'Your response should be a list of comma separated values, eg: `foo, bar, baz`'"
      ]
     },
     "execution_count": 4,
     "metadata": {},
     "output_type": "execute_result"
    }
   ],
   "source": [
    "output_parser = CommaSeparatedListOutputParser()\n",
    "format_instructions = output_parser.get_format_instructions()\n",
    "\n",
    "format_instructions"
   ]
  },
  {
   "cell_type": "code",
   "execution_count": 5,
   "id": "c50fcc06",
   "metadata": {},
   "outputs": [],
   "source": [
    "prompt = PromptTemplate(\n",
    "    template=\"Provide 5 examples of {query}.\\n{format_instructions}\",\n",
    "    input_variables=[\"query\"],\n",
    "    partial_variables={\"format_instructions\": format_instructions}\n",
    ")"
   ]
  },
  {
   "cell_type": "code",
   "execution_count": 11,
   "id": "04923e9f",
   "metadata": {},
   "outputs": [],
   "source": [
    "prompt = prompt.format(query=\"Currencies\")"
   ]
  },
  {
   "cell_type": "code",
   "execution_count": 12,
   "id": "2ce6d395",
   "metadata": {},
   "outputs": [
    {
     "name": "stdout",
     "output_type": "stream",
     "text": [
      "Provide 5 examples of Currencies.\n",
      "Your response should be a list of comma separated values, eg: `foo, bar, baz`\n"
     ]
    }
   ],
   "source": [
    "print(prompt)"
   ]
  },
  {
   "cell_type": "code",
   "execution_count": 15,
   "id": "074c1fee",
   "metadata": {},
   "outputs": [
    {
     "name": "stdout",
     "output_type": "stream",
     "text": [
      "\n",
      "\n",
      "1. US Dollar\n",
      "2. Euro\n",
      "3. Japanese Yen\n",
      "4. British Pound\n",
      "5. Canadian Dollar\n"
     ]
    }
   ],
   "source": [
    "llm = OpenAI(temperature=0.9, model=\"gpt-3.5-turbo-instruct\")\n",
    "output = llm(prompt)\n",
    "print(output)"
   ]
  },
  {
   "cell_type": "markdown",
   "id": "22e61c43",
   "metadata": {},
   "source": [
    "### Json Format"
   ]
  },
  {
   "cell_type": "code",
   "execution_count": 17,
   "id": "e1f62530",
   "metadata": {},
   "outputs": [],
   "source": [
    "from langchain.output_parsers import StructuredOutputParser, ResponseSchema"
   ]
  },
  {
   "cell_type": "code",
   "execution_count": 18,
   "id": "ec100042",
   "metadata": {},
   "outputs": [],
   "source": [
    "response_schemas = [\n",
    "    ResponseSchema(name=\"currency\", description=\"answer to the user's question\"),\n",
    "    ResponseSchema(name=\"abbrevation\", description=\"Whats the abbrebation of that currency\")\n",
    "]"
   ]
  },
  {
   "cell_type": "code",
   "execution_count": 19,
   "id": "fc33fc3a",
   "metadata": {},
   "outputs": [],
   "source": [
    "output_parser = StructuredOutputParser.from_response_schemas(response_schemas)"
   ]
  },
  {
   "cell_type": "code",
   "execution_count": 20,
   "id": "26f67e1f",
   "metadata": {},
   "outputs": [
    {
     "name": "stdout",
     "output_type": "stream",
     "text": [
      "response_schemas=[ResponseSchema(name='currency', description=\"answer to the user's question\", type='string'), ResponseSchema(name='abbrevation', description='Whats the abbrebation of that currency', type='string')]\n"
     ]
    }
   ],
   "source": [
    "print(output_parser)"
   ]
  },
  {
   "cell_type": "code",
   "execution_count": 21,
   "id": "99da901c",
   "metadata": {},
   "outputs": [
    {
     "name": "stdout",
     "output_type": "stream",
     "text": [
      "The output should be a markdown code snippet formatted in the following schema, including the leading and trailing \"```json\" and \"```\":\n",
      "\n",
      "```json\n",
      "{\n",
      "\t\"currency\": string  // answer to the user's question\n",
      "\t\"abbrevation\": string  // Whats the abbrebation of that currency\n",
      "}\n",
      "```\n"
     ]
    }
   ],
   "source": [
    "format_instructions = output_parser.get_format_instructions()\n",
    "print(format_instructions)"
   ]
  },
  {
   "cell_type": "code",
   "execution_count": 22,
   "id": "77c5edbb",
   "metadata": {},
   "outputs": [],
   "source": [
    "prompt = PromptTemplate(\n",
    "    template=\"answer the users question as best as possible.\\n{format_instructions}\\n{query}\",\n",
    "    input_variables=[\"query\"],\n",
    "    partial_variables={\"format_instructions\": format_instructions}\n",
    ")"
   ]
  },
  {
   "cell_type": "code",
   "execution_count": 23,
   "id": "73c51a36",
   "metadata": {},
   "outputs": [
    {
     "name": "stdout",
     "output_type": "stream",
     "text": [
      "input_variables=['query'] partial_variables={'format_instructions': 'The output should be a markdown code snippet formatted in the following schema, including the leading and trailing \"```json\" and \"```\":\\n\\n```json\\n{\\n\\t\"currency\": string  // answer to the user\\'s question\\n\\t\"abbrevation\": string  // Whats the abbrebation of that currency\\n}\\n```'} template='answer the users question as best as possible.\\n{format_instructions}\\n{query}'\n"
     ]
    }
   ],
   "source": [
    "print(prompt)"
   ]
  },
  {
   "cell_type": "code",
   "execution_count": 24,
   "id": "ff141052",
   "metadata": {},
   "outputs": [],
   "source": [
    "prompt = prompt.format(query=\"what's the currency of America?\")"
   ]
  },
  {
   "cell_type": "code",
   "execution_count": 25,
   "id": "a364adbd",
   "metadata": {},
   "outputs": [
    {
     "name": "stdout",
     "output_type": "stream",
     "text": [
      "answer the users question as best as possible.\n",
      "The output should be a markdown code snippet formatted in the following schema, including the leading and trailing \"```json\" and \"```\":\n",
      "\n",
      "```json\n",
      "{\n",
      "\t\"currency\": string  // answer to the user's question\n",
      "\t\"abbrevation\": string  // Whats the abbrebation of that currency\n",
      "}\n",
      "```\n",
      "what's the currency of America?\n"
     ]
    }
   ],
   "source": [
    "print(prompt)"
   ]
  },
  {
   "cell_type": "code",
   "execution_count": 26,
   "id": "9e1c69de",
   "metadata": {},
   "outputs": [
    {
     "name": "stdout",
     "output_type": "stream",
     "text": [
      "\n",
      "\n",
      "```json\n",
      "{\n",
      "\t\"currency\": \"US Dollar\",\n",
      "\t\"abbrevation\": \"USD\"\n",
      "}\n",
      "```\n"
     ]
    }
   ],
   "source": [
    "output = llm(prompt)\n",
    "print(output)"
   ]
  },
  {
   "cell_type": "code",
   "execution_count": null,
   "id": "995a3d65",
   "metadata": {},
   "outputs": [],
   "source": []
  }
 ],
 "metadata": {
  "kernelspec": {
   "display_name": "Python 3 (ipykernel)",
   "language": "python",
   "name": "python3"
  },
  "language_info": {
   "codemirror_mode": {
    "name": "ipython",
    "version": 3
   },
   "file_extension": ".py",
   "mimetype": "text/x-python",
   "name": "python",
   "nbconvert_exporter": "python",
   "pygments_lexer": "ipython3",
   "version": "3.11.0"
  }
 },
 "nbformat": 4,
 "nbformat_minor": 5
}
