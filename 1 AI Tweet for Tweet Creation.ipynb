{
 "cells": [
  {
   "cell_type": "code",
   "execution_count": 24,
   "id": "93e917fa",
   "metadata": {},
   "outputs": [],
   "source": [
    "import os"
   ]
  },
  {
   "cell_type": "code",
   "execution_count": 25,
   "id": "fe5e9c51",
   "metadata": {},
   "outputs": [],
   "source": [
    "from langchain.llms import OpenAI"
   ]
  },
  {
   "cell_type": "code",
   "execution_count": 27,
   "id": "5e9e383c",
   "metadata": {},
   "outputs": [
    {
     "name": "stdout",
     "output_type": "stream",
     "text": [
      "\n",
      "I love trips, and I have been to 6 countries. I plan to visit few more soon.\n",
      "\n",
      "Can you create a tweet with 3 words for the above?\n",
      "\n"
     ]
    }
   ],
   "source": [
    "# Define your prompt\n",
    "our_text = \"I love trips, and I have been to 6 countries. I plan to visit few more soon.\"\n",
    "words_count = 3  # Define the number of words for the tweet\n",
    "our_prompt = f\"\"\"\n",
    "{our_text}\n",
    "\n",
    "Can you create a tweet with {words_count} words for the above?\n",
    "\"\"\"\n",
    "\n",
    "# Print the prompt\n",
    "print(our_prompt)"
   ]
  },
  {
   "cell_type": "code",
   "execution_count": 32,
   "id": "e8c01868",
   "metadata": {},
   "outputs": [
    {
     "name": "stderr",
     "output_type": "stream",
     "text": [
      "C:\\Users\\Nile Crocodile\\AppData\\Local\\Programs\\Python\\Python311\\Lib\\site-packages\\langchain\\llms\\openai.py:216: UserWarning: You are trying to use a chat model. This way of initializing it is no longer supported. Instead, please use: `from langchain.chat_models import ChatOpenAI`\n",
      "  warnings.warn(\n",
      "C:\\Users\\Nile Crocodile\\AppData\\Local\\Programs\\Python\\Python311\\Lib\\site-packages\\langchain\\llms\\openai.py:811: UserWarning: You are trying to use a chat model. This way of initializing it is no longer supported. Instead, please use: `from langchain.chat_models import ChatOpenAI`\n",
      "  warnings.warn(\n"
     ]
    },
    {
     "data": {
      "text/plain": [
       "'\"I crave adventure. 🌍✈️ #TravelBug #Wanderlust\"'"
      ]
     },
     "execution_count": 32,
     "metadata": {},
     "output_type": "execute_result"
    }
   ],
   "source": [
    "os.environ[\"OPENAI_API_KEY\"] = \"OPENAI_API_KEY\"\n",
    "llm = OpenAI(model_name=\"gpt-3.5-turbo-0301\")\n",
    "\n",
    "llm(our_prompt)"
   ]
  },
  {
   "cell_type": "markdown",
   "id": "b544ff21",
   "metadata": {},
   "source": [
    "## Prompt Template"
   ]
  },
  {
   "cell_type": "code",
   "execution_count": 33,
   "id": "d3d1bd63",
   "metadata": {},
   "outputs": [],
   "source": [
    "from langchain.llms import OpenAI"
   ]
  },
  {
   "cell_type": "code",
   "execution_count": 34,
   "id": "f55beab7",
   "metadata": {},
   "outputs": [],
   "source": [
    "from langchain import PromptTemplate"
   ]
  },
  {
   "cell_type": "code",
   "execution_count": 41,
   "id": "fc4c87c0",
   "metadata": {},
   "outputs": [
    {
     "name": "stderr",
     "output_type": "stream",
     "text": [
      "C:\\Users\\Nile Crocodile\\AppData\\Local\\Programs\\Python\\Python311\\Lib\\site-packages\\langchain\\llms\\openai.py:216: UserWarning: You are trying to use a chat model. This way of initializing it is no longer supported. Instead, please use: `from langchain.chat_models import ChatOpenAI`\n",
      "  warnings.warn(\n",
      "C:\\Users\\Nile Crocodile\\AppData\\Local\\Programs\\Python\\Python311\\Lib\\site-packages\\langchain\\llms\\openai.py:811: UserWarning: You are trying to use a chat model. This way of initializing it is no longer supported. Instead, please use: `from langchain.chat_models import ChatOpenAI`\n",
      "  warnings.warn(\n"
     ]
    }
   ],
   "source": [
    "llm = OpenAI(model_name=\"gpt-3.5-turbo-0301\")"
   ]
  },
  {
   "cell_type": "markdown",
   "id": "4768461b",
   "metadata": {},
   "source": [
    "### Using F-String"
   ]
  },
  {
   "cell_type": "markdown",
   "id": "4b5024d4",
   "metadata": {},
   "source": [
    "<font color='green'>\n",
    "F-String is a Python feature that allows easy string formatting by placing variables inside curly braces within a string, making code more readable and efficient.\n",
    "    \n",
    "<br>\n",
    "__Code:__\n",
    "<br>\n",
    "name = \"Alice\"\n",
    "<br>\n",
    "age = 25\n",
    "<br>\n",
    "message = f\"My name is {name} and I am {age} years old.\"\n",
    "<br>\n",
    "print(message)\n",
    "<br><br>\n",
    "__Output:__\n",
    "<br>\n",
    "My name is Alice and I am 25 years old.\n",
    "<font>"
   ]
  },
  {
   "cell_type": "code",
   "execution_count": 42,
   "id": "23109c05",
   "metadata": {},
   "outputs": [],
   "source": [
    "wordsCount=3"
   ]
  },
  {
   "cell_type": "code",
   "execution_count": 43,
   "id": "d9ce8bba",
   "metadata": {},
   "outputs": [],
   "source": [
    "our_text = \"I love trips, and I have been to 6 countries. I plan to visit few more soon.\""
   ]
  },
  {
   "cell_type": "code",
   "execution_count": 44,
   "id": "70c0bfcb",
   "metadata": {},
   "outputs": [],
   "source": [
    "our_prompt = f\"\"\"\n",
    "{our_text}\n",
    "\n",
    "Can you create a post for tweet in {wordsCount} words for the above?\n",
    "\"\"\""
   ]
  },
  {
   "cell_type": "code",
   "execution_count": 45,
   "id": "dccfddcb",
   "metadata": {},
   "outputs": [
    {
     "name": "stdout",
     "output_type": "stream",
     "text": [
      "\n",
      "I love trips, and I have been to 6 countries. I plan to visit few more soon.\n",
      "\n",
      "Can you create a post for tweet in 3 words for the above?\n",
      "\n"
     ]
    }
   ],
   "source": [
    "print (our_prompt)"
   ]
  },
  {
   "cell_type": "code",
   "execution_count": 46,
   "id": "38f1eef6",
   "metadata": {},
   "outputs": [
    {
     "data": {
      "text/plain": [
       "'\"Travel addict expands horizons! #wanderlust #adventure\"'"
      ]
     },
     "execution_count": 46,
     "metadata": {},
     "output_type": "execute_result"
    }
   ],
   "source": [
    "llm(our_prompt)"
   ]
  },
  {
   "cell_type": "markdown",
   "id": "8a4fd394",
   "metadata": {},
   "source": [
    "### Using Prompt Template"
   ]
  },
  {
   "cell_type": "markdown",
   "id": "0264f268",
   "metadata": {},
   "source": [
    "<font color='green'>Prompt templates helps us in keeping our code neat and clean when we are building more complex <font>"
   ]
  },
  {
   "cell_type": "code",
   "execution_count": 47,
   "id": "d81d00a5",
   "metadata": {},
   "outputs": [],
   "source": [
    "template = \"\"\"\n",
    "{our_text}\n",
    "\n",
    "Can you create a post for tweet in {wordsCount} words for the above?\n",
    "\"\"\""
   ]
  },
  {
   "cell_type": "code",
   "execution_count": 48,
   "id": "b1b26b1f",
   "metadata": {},
   "outputs": [],
   "source": [
    "prompt = PromptTemplate(\n",
    "    input_variables=[\"wordsCount\",\"our_text\"],\n",
    "    template=template,\n",
    ")"
   ]
  },
  {
   "cell_type": "code",
   "execution_count": 49,
   "id": "4b569cc5",
   "metadata": {},
   "outputs": [],
   "source": [
    "final_prompt = prompt.format(wordsCount='3',our_text=\"I love trips, and I have been to 6 countries. I plan to visit few more soon.\")"
   ]
  },
  {
   "cell_type": "code",
   "execution_count": 50,
   "id": "68c72bc5",
   "metadata": {},
   "outputs": [
    {
     "name": "stdout",
     "output_type": "stream",
     "text": [
      "\n",
      "I love trips, and I have been to 6 countries. I plan to visit few more soon.\n",
      "\n",
      "Can you create a post for tweet in 3 words for the above?\n",
      "\n"
     ]
    }
   ],
   "source": [
    "print (final_prompt)"
   ]
  },
  {
   "cell_type": "code",
   "execution_count": 51,
   "id": "4c0f863b",
   "metadata": {},
   "outputs": [
    {
     "name": "stdout",
     "output_type": "stream",
     "text": [
      "Wanderlust satisfied, almost! #travel #adventures #jetsetter\n"
     ]
    }
   ],
   "source": [
    "print (llm(final_prompt))"
   ]
  },
  {
   "cell_type": "code",
   "execution_count": null,
   "id": "10cfaaf8",
   "metadata": {},
   "outputs": [],
   "source": []
  }
 ],
 "metadata": {
  "kernelspec": {
   "display_name": "Python 3 (ipykernel)",
   "language": "python",
   "name": "python3"
  },
  "language_info": {
   "codemirror_mode": {
    "name": "ipython",
    "version": 3
   },
   "file_extension": ".py",
   "mimetype": "text/x-python",
   "name": "python",
   "nbconvert_exporter": "python",
   "pygments_lexer": "ipython3",
   "version": "3.11.0"
  }
 },
 "nbformat": 4,
 "nbformat_minor": 5
}
